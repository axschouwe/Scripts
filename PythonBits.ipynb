{
 "cells": [
  {
   "cell_type": "code",
   "execution_count": 1,
   "metadata": {},
   "outputs": [
    {
     "name": "stdout",
     "output_type": "stream",
     "text": [
      "Hello World and Jupyter\n"
     ]
    }
   ],
   "source": [
    "msg = \"Hello World and Jupyter\"\n",
    "print(msg)"
   ]
  },
  {
   "cell_type": "markdown",
   "metadata": {},
   "source": [
    "countdown using while loop: from 10 - 0"
   ]
  },
  {
   "cell_type": "code",
   "execution_count": 2,
   "metadata": {},
   "outputs": [
    {
     "name": "stdout",
     "output_type": "stream",
     "text": [
      "10\n",
      "9\n",
      "8\n",
      "7\n",
      "6\n",
      "5\n",
      "4\n",
      "3\n",
      "2\n",
      "1\n",
      "0\n"
     ]
    }
   ],
   "source": [
    "def num_count(num):\n",
    "    number = 10\n",
    "\n",
    "    while number > num:\n",
    "        number -= 1\n",
    "        print(number + 1)\n",
    "    print(number)\n",
    "\n",
    "(num_count(0))"
   ]
  },
  {
   "cell_type": "markdown",
   "metadata": {},
   "source": [
    "Using Retun, instead of print..."
   ]
  },
  {
   "cell_type": "code",
   "execution_count": null,
   "metadata": {},
   "outputs": [],
   "source": [
    "def num_count(num):\n",
    "    number = 10\n",
    "\n",
    "    while number > num:\n",
    "        number -= 1\n",
    "        print(number + 1)\n",
    "    return(number)\n",
    "\n",
    "print(num_count(0))"
   ]
  },
  {
   "cell_type": "markdown",
   "metadata": {},
   "source": [
    "Count up from 0 - 10 using while loop"
   ]
  },
  {
   "cell_type": "code",
   "execution_count": null,
   "metadata": {},
   "outputs": [],
   "source": [
    "def num_count(num):\n",
    "    number = 0\n",
    "\n",
    "    while number < num:\n",
    "        number += 1\n",
    "        print(number -1)\n",
    "    print(number)\n",
    "(num_count(10))"
   ]
  },
  {
   "cell_type": "markdown",
   "metadata": {},
   "source": [
    "Count up from 0 - 10 using for loop"
   ]
  },
  {
   "cell_type": "code",
   "execution_count": null,
   "metadata": {},
   "outputs": [],
   "source": [
    "def num_count(num):\n",
    "    for number in range(0, num, 1):\n",
    "        print(number)\n",
    "    print(num)\n",
    "(num_count(10))"
   ]
  },
  {
   "cell_type": "markdown",
   "metadata": {},
   "source": [
    "Count down from 10 - 0"
   ]
  },
  {
   "cell_type": "code",
   "execution_count": null,
   "metadata": {},
   "outputs": [],
   "source": [
    "def num_count(num):\n",
    "    for number in range(num, 0, -1):\n",
    "        print(number)\n",
    "    print(0)    \n",
    "(num_count(10))"
   ]
  },
  {
   "cell_type": "markdown",
   "metadata": {},
   "source": [
    "Add all numbers from 1 - 10 (ex: 1+2+3+4+5+6+7+8+9+10)"
   ]
  },
  {
   "cell_type": "code",
   "execution_count": null,
   "metadata": {},
   "outputs": [],
   "source": [
    "def adder(num):\n",
    "    counter = 1\n",
    "    total = 1\n",
    "    for number in range(1, num, 1):\n",
    "        counter += 1\n",
    "        print(total)\n",
    "        total += counter\n",
    "    print(total)\n",
    "(adder(10))\n"
   ]
  },
  {
   "cell_type": "markdown",
   "metadata": {},
   "source": [
    "Factorial calculator from 1 - 10 (inclusive)"
   ]
  },
  {
   "cell_type": "code",
   "execution_count": null,
   "metadata": {},
   "outputs": [],
   "source": [
    "def factorial(num):\n",
    "    counter = 1\n",
    "    for number in range(1, num + 1, 1):\n",
    "        counter *= number\n",
    "    print(counter)\n",
    "(factorial(10))"
   ]
  },
  {
   "cell_type": "markdown",
   "metadata": {},
   "source": [
    "Find the Largest number in a list"
   ]
  },
  {
   "cell_type": "code",
   "execution_count": null,
   "metadata": {},
   "outputs": [],
   "source": [
    "def largest(num_list):\n",
    "    largest_number = 0 \n",
    "    for number in num_list:\n",
    "        if largest_number == 0 or number > largest_number:\n",
    "            largest_number = number\n",
    "    print(largest_number)\n",
    "(largest([1,2,3,-5,9,6,7,8,-2]))"
   ]
  },
  {
   "cell_type": "markdown",
   "metadata": {},
   "source": [
    "Find the smallest number in a list"
   ]
  },
  {
   "cell_type": "code",
   "execution_count": null,
   "metadata": {},
   "outputs": [],
   "source": [
    "def smallest(num):\n",
    "    smallest_number = 0\n",
    "    for number in num:\n",
    "        if smallest_number == 0 or number < smallest_number:\n",
    "            smallest_number = number\n",
    "    print(smallest_number)\n",
    "(smallest([1,2,3,-5,9,6,7,8,5]))"
   ]
  },
  {
   "cell_type": "markdown",
   "metadata": {},
   "source": [
    "Find the median of a list"
   ]
  },
  {
   "cell_type": "code",
   "execution_count": null,
   "metadata": {},
   "outputs": [],
   "source": [
    "def median(num):\n",
    "    sorted_list = sorted(num)\n",
    "    len_list = len(sorted_list)\n",
    "    if len_list % 2 == 0:\n",
    "        num_1 = sorted_list[int(len_list / 2)]\n",
    "        num_2 = sorted_list[int(len_list / 2 -1)]\n",
    "        return(num_1 + num_2) / 2\n",
    "    else:\n",
    "        return(sorted_list[int(len_list) // 2])\n",
    "print(median([1,2,3,4,5,6,7,8,9,10]))"
   ]
  },
  {
   "cell_type": "markdown",
   "metadata": {},
   "source": [
    "Count the number of Vowels in a string"
   ]
  },
  {
   "cell_type": "code",
   "execution_count": null,
   "metadata": {},
   "outputs": [],
   "source": [
    "def vowel_count(string):\n",
    "    vowels = \"aeiouyAEIOUY\"\n",
    "    counter = 0\n",
    "    for letter in string:\n",
    "        if letter in vowels:\n",
    "            counter += 1\n",
    "    print(counter)\n",
    "(vowel_count(\"Hellow World and all You Coders!\"))"
   ]
  },
  {
   "cell_type": "markdown",
   "metadata": {},
   "source": [
    "Create a new list of words that contain a specific letter from a string "
   ]
  },
  {
   "cell_type": "code",
   "execution_count": null,
   "metadata": {},
   "outputs": [],
   "source": [
    "def has_letter(string):\n",
    "    letter_set = set(\"aA\")\n",
    "    new_list = []\n",
    "    split_list = string.split()\n",
    "    for letter in split_list:\n",
    "        if letter_set & set(letter):\n",
    "            new_list.append(letter)\n",
    "    print(new_list)\n",
    "(has_letter(\"A hoarse of a different color\"))"
   ]
  },
  {
   "cell_type": "markdown",
   "metadata": {},
   "source": [
    "Split a string at a \", \" (space), and print a new list in as a column"
   ]
  },
  {
   "cell_type": "code",
   "execution_count": null,
   "metadata": {},
   "outputs": [],
   "source": [
    "def column_list(string):\n",
    "    split_string = string.split(\", \")\n",
    "    new_list = []\n",
    "    for string in split_string:\n",
    "        print(string)\n",
    "        new_list.append(string)\n",
    "    print(\"\")\n",
    "(column_list(\"Hello World, my name is axschouwe, and this my code!\"))"
   ]
  },
  {
   "cell_type": "markdown",
   "metadata": {},
   "source": [
    "search a list of numbers by a search number, and print true or false? -- Boolean"
   ]
  },
  {
   "cell_type": "code",
   "execution_count": null,
   "metadata": {},
   "outputs": [],
   "source": [
    "def num_in(num_list, search_num):\n",
    "    num_in = False\n",
    "    for number in num_list:\n",
    "        if number == search_num:\n",
    "            num_in = True\n",
    "    print(num_in)\n",
    "(num_in([1,2,3,4,5.5,6,7,8],5))"
   ]
  },
  {
   "cell_type": "markdown",
   "metadata": {},
   "source": [
    "Calculate the average of a the sum of a list of numbers"
   ]
  },
  {
   "cell_type": "code",
   "execution_count": null,
   "metadata": {},
   "outputs": [],
   "source": [
    "def average(num_list):\n",
    "    average = sum(num_list) / len(num_list)\n",
    "    print(average)\n",
    "(average([1,2,3,4,5,6,7,8,9,10]))"
   ]
  },
  {
   "cell_type": "markdown",
   "metadata": {},
   "source": [
    "Create a new list with all odd numbers"
   ]
  },
  {
   "cell_type": "code",
   "execution_count": null,
   "metadata": {},
   "outputs": [],
   "source": [
    "def odd_nums(num_list):\n",
    "    odd_list = []\n",
    "    for number in num_list:\n",
    "        if number % 2 != 0:\n",
    "            odd_list.append(number)\n",
    "        elif odd_list == 0:\n",
    "            print(odd_list)\n",
    "    print(odd_list)\n",
    "(odd_nums([1,2,3,4,5,6,7,8,9,10]))"
   ]
  },
  {
   "cell_type": "markdown",
   "metadata": {},
   "source": [
    "% vs / vs //"
   ]
  },
  {
   "cell_type": "code",
   "execution_count": null,
   "metadata": {},
   "outputs": [],
   "source": [
    "math = 2 % 4\n",
    "math2 = 2 / 4\n",
    "math3 = 2 // 4\n",
    "print(math, math2, math3)"
   ]
  },
  {
   "cell_type": "markdown",
   "metadata": {},
   "source": [
    "Print the name attached to the highest record"
   ]
  },
  {
   "cell_type": "code",
   "execution_count": null,
   "metadata": {},
   "outputs": [],
   "source": [
    "def highest_num(name_record):\n",
    "    record_num = 0.0\n",
    "    name = \"\"\n",
    "    for record in name_record:\n",
    "        if record[1] > record_num:\n",
    "            record_num = record[1]\n",
    "            name = record[0]\n",
    "    print (name + \" \" + str(record_num) + \"%\")\n",
    "(highest_num([[\"John\", 100.0], [\"Paul\", 56.6], [\"Ringo\", 90.8], [\"George\", 98.9]]))\n"
   ]
  },
  {
   "cell_type": "markdown",
   "metadata": {},
   "source": [
    "^(From above)Project, order results in a colum ordered numerically^ "
   ]
  },
  {
   "cell_type": "markdown",
   "metadata": {},
   "source": [
    "Calculate the abolute total of a list of numbers"
   ]
  },
  {
   "cell_type": "code",
   "execution_count": null,
   "metadata": {},
   "outputs": [],
   "source": [
    "def absolue_value(num_list):\n",
    "    total = 0\n",
    "    for number in num_list:\n",
    "        if number < 0:\n",
    "            total += number * -1\n",
    "        else: \n",
    "            total += number\n",
    "    print(total)\n",
    "(absolue_value([1,2,3,4,5,6,7,-1,-2,-3,-4,-5,-6]))"
   ]
  },
  {
   "cell_type": "markdown",
   "metadata": {},
   "source": [
    "Sum of the cubes of a list"
   ]
  },
  {
   "cell_type": "code",
   "execution_count": null,
   "metadata": {},
   "outputs": [],
   "source": [
    "def sum_cubes(num_list):\n",
    "    sum_cubes = 0\n",
    "    for number in num_list:\n",
    "        sum_cubes += number ** 3\n",
    "    print(sum_cubes)\n",
    "(sum_cubes([1,2,3,4,5,6,7,8,9]))"
   ]
  },
  {
   "cell_type": "markdown",
   "metadata": {},
   "source": [
    "Reverse a string"
   ]
  },
  {
   "cell_type": "code",
   "execution_count": null,
   "metadata": {},
   "outputs": [],
   "source": [
    "def reverse(string):\n",
    "    print(string[::-1])\n",
    "(reverse(\"Hello world and python people!\"))"
   ]
  },
  {
   "cell_type": "markdown",
   "metadata": {},
   "source": [
    "Convert number of minutes into hour:minute format"
   ]
  },
  {
   "cell_type": "code",
   "execution_count": null,
   "metadata": {},
   "outputs": [],
   "source": [
    "def time_convert(num):\n",
    "    hour = num // 60\n",
    "    minute = num % 60\n",
    "    clock = str(hour) + \"hr\" + \":\"  + str(minute) + \"min\"\n",
    "    print(clock)\n",
    "(time_convert(321))"
   ]
  },
  {
   "cell_type": "markdown",
   "metadata": {},
   "source": [
    "Test if a string is a palindrome -- Boolean"
   ]
  },
  {
   "cell_type": "code",
   "execution_count": null,
   "metadata": {},
   "outputs": [],
   "source": [
    "def palindrome(string):\n",
    "    reverse_string = \"\"\n",
    "    string = string.replace(\" \",\"\")\n",
    "    string = string.lower()\n",
    "    reverse_string = string[::-1]\n",
    "    if string == reverse_string:\n",
    "        print(True)\n",
    "    else:\n",
    "        print(False)\n",
    "(palindrome(\"uFo ToFu\"))\n",
    "    "
   ]
  },
  {
   "cell_type": "markdown",
   "metadata": {},
   "source": [
    "Count number of characters that match the search_char string"
   ]
  },
  {
   "cell_type": "code",
   "execution_count": null,
   "metadata": {},
   "outputs": [],
   "source": [
    "def char_count(search_char, string):\n",
    "    count = 0\n",
    "    for character in string:\n",
    "        if character.upper() == search_char.upper():\n",
    "            count += 1\n",
    "    print(count)\n",
    "(char_count(\"f\",\"Friends and family future and past!\"))"
   ]
  },
  {
   "cell_type": "markdown",
   "metadata": {},
   "source": [
    "Remove vowels from a string"
   ]
  },
  {
   "cell_type": "code",
   "execution_count": null,
   "metadata": {},
   "outputs": [],
   "source": [
    "def remove_vowel(string):\n",
    "    vowel = \"aeiouyAEIOUY\"\n",
    "    new_string = \"\"\n",
    "    for character in string:\n",
    "        if character not in vowel:\n",
    "            new_string += character\n",
    "    print(new_string)\n",
    "(remove_vowel(\"This is my test string\"))"
   ]
  },
  {
   "cell_type": "markdown",
   "metadata": {},
   "source": [
    "Print a new string in the format lower, UPPER, lower"
   ]
  },
  {
   "cell_type": "code",
   "execution_count": null,
   "metadata": {},
   "outputs": [],
   "source": [
    "def lower_upper(string):\n",
    "    counter = -1\n",
    "    new_string = \"\"\n",
    "    for character in string:\n",
    "        counter += 1\n",
    "        if counter % 2 == 0:\n",
    "            new_string += character.lower()\n",
    "        else:\n",
    "            new_string += character.upper()\n",
    "    print(new_string)\n",
    "(lower_upper(\"trust no one\"))"
   ]
  },
  {
   "cell_type": "markdown",
   "metadata": {},
   "source": [
    "Count the number of characters in a string"
   ]
  },
  {
   "cell_type": "code",
   "execution_count": null,
   "metadata": {},
   "outputs": [],
   "source": [
    "def char_count(string):\n",
    "    counter = 0\n",
    "    for char in string:\n",
    "        if char.isalpha():\n",
    "            counter += 1\n",
    "    print(counter)\n",
    "(char_count(\"the truth is out there\"))"
   ]
  },
  {
   "cell_type": "markdown",
   "metadata": {},
   "source": [
    "Count the number of words in a string"
   ]
  },
  {
   "cell_type": "code",
   "execution_count": null,
   "metadata": {},
   "outputs": [],
   "source": [
    "def word_count(string):\n",
    "    counter = 0\n",
    "    for word in string:\n",
    "        string = string.split(\" \")\n",
    "        for word in string:\n",
    "            counter += 1\n",
    "        return(counter)\n",
    "(word_count(\"the truth is out there\"))"
   ]
  },
  {
   "cell_type": "markdown",
   "metadata": {},
   "source": [
    "Generate initials from a full name "
   ]
  },
  {
   "cell_type": "code",
   "execution_count": null,
   "metadata": {},
   "outputs": [],
   "source": [
    "def initial_generator(full_name):\n",
    "    intitails = \"\"\n",
    "    space = \" \"\n",
    "    is_initials = True\n",
    "    for character in full_name:\n",
    "        if is_initials:\n",
    "            intitails += character + \".\"\n",
    "            is_initials = False\n",
    "        elif character == space:\n",
    "            is_initials = True\n",
    "    print(intitails)\n",
    "(initial_generator(\"Adam Douglass Schouweiler\")) \n"
   ]
  },
  {
   "cell_type": "markdown",
   "metadata": {},
   "source": [
    "Mix up letters in two strings"
   ]
  },
  {
   "cell_type": "code",
   "execution_count": null,
   "metadata": {},
   "outputs": [],
   "source": [
    "def mix_up(string_1, string_2):\n",
    "    string1 = string_1[0]\n",
    "    string2 = string_2[0]\n",
    "    print(string2 + string_1[1:] + \" \" + string1 + string_2[1:])\n",
    "(mix_up(\"what's\", \"up\"))"
   ]
  },
  {
   "cell_type": "markdown",
   "metadata": {},
   "source": [
    "Mix up letters in two strings, determined by the chosen number"
   ]
  },
  {
   "cell_type": "code",
   "execution_count": null,
   "metadata": {},
   "outputs": [],
   "source": [
    "def mixed_up(string_1, string_2, num):\n",
    "    string1 = string_1[:num]\n",
    "    string2 = string_2[:num]\n",
    "    print(string2 + string_1[num:] + \" \" + string1 + string_2[num:])\n",
    "(mixed_up(\"whats\", \"up\", 2))"
   ]
  },
  {
   "cell_type": "markdown",
   "metadata": {},
   "source": [
    "Find the index of the first letter of a word in a string, by search word"
   ]
  },
  {
   "cell_type": "code",
   "execution_count": null,
   "metadata": {},
   "outputs": [],
   "source": [
    "def indexer(string, search_word):\n",
    "    string = string.find(search_word)\n",
    "    print(string)\n",
    "(indexer(\"Python is a fun programming language\", \"fun\"))"
   ]
  },
  {
   "cell_type": "markdown",
   "metadata": {},
   "source": [
    "Leet Speeker"
   ]
  },
  {
   "cell_type": "code",
   "execution_count": null,
   "metadata": {},
   "outputs": [],
   "source": [
    "def leet_speeker(string):\n",
    "    for char in string:\n",
    "        if char == \"a\" or char == \"A\":\n",
    "            string = string.replace(char, str(4))\n",
    "        elif char == \"e\" or char == \"E\":\n",
    "            string = string.replace(char, str(3))\n",
    "        elif char == \"l\" or char == \"L\":\n",
    "            string = string.replace(char, str(1))\n",
    "        elif char == \"T\" or char == \"t\":\n",
    "            string = string.replace(char, \"+\")\n",
    "    print(string)\n",
    "(leet_speeker(\"the truth is out there\"))"
   ]
  }
 ],
 "metadata": {
  "kernelspec": {
   "display_name": "Python 3.10.5 64-bit (windows store)",
   "language": "python",
   "name": "python3"
  },
  "language_info": {
   "codemirror_mode": {
    "name": "ipython",
    "version": 3
   },
   "file_extension": ".py",
   "mimetype": "text/x-python",
   "name": "python",
   "nbconvert_exporter": "python",
   "pygments_lexer": "ipython3",
   "version": "3.10.5"
  },
  "orig_nbformat": 4,
  "vscode": {
   "interpreter": {
    "hash": "31c820ce7bbd6928e98047f63024f42fabc998b283ab94d353846fbe3a889769"
   }
  }
 },
 "nbformat": 4,
 "nbformat_minor": 2
}
